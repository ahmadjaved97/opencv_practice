{
 "cells": [
  {
   "cell_type": "markdown",
   "metadata": {},
   "source": [
    "### Blurring"
   ]
  },
  {
   "cell_type": "code",
   "execution_count": 1,
   "metadata": {},
   "outputs": [],
   "source": [
    "import cv2\n",
    "import numpy as np"
   ]
  },
  {
   "cell_type": "code",
   "execution_count": 2,
   "metadata": {},
   "outputs": [],
   "source": [
    "img = cv2.imread('lena.png')\n",
    "rows, cols = img.shape[:2]\n",
    "\n",
    "kernel_identity = np.array([[0, 0, 0], \n",
    "                           [0, 1, 0],\n",
    "                           [0, 0, 0]])\n",
    "\n",
    "kernel_3x3 = np.ones((3, 3), np.float32)/9.0\n",
    "kernel_5x5 = np.ones((5, 5), np.float32)/25.0\n",
    "\n",
    "cv2.imshow('Original', img)\n",
    "\n",
    "output = cv2.filter2D(img, -1, kernel_identity)\n",
    "cv2.imshow('Identity Filter', output)\n",
    "\n",
    "output = cv2.filter2D(img, -1, kernel_3x3)\n",
    "cv2.imshow('3x3 filter', output)\n",
    "\n",
    "output = cv2.filter2D(img, -1, kernel_5x5)\n",
    "cv2.imshow('5x5 filter', output)\n",
    "\n",
    "cv2.waitKey(0)\n",
    "cv2.destroyAllWindows()"
   ]
  },
  {
   "cell_type": "code",
   "execution_count": 3,
   "metadata": {},
   "outputs": [],
   "source": [
    "def nothing(x):\n",
    "    pass\n",
    "\n",
    "cv2.namedWindow('Output Filter')\n",
    "cv2.createTrackbar('Kernel Size', 'Output Filter', 3, 40, nothing)\n",
    "\n",
    "img = cv2.imread('lena.png')\n",
    "\n",
    "while True:\n",
    "    cv2.imshow('Original Image', img)\n",
    "    \n",
    "    size = cv2.getTrackbarPos('Kernel Size', 'Output Filter')\n",
    "    kernel = np.ones((size, size), np.float32)/(size*size)\n",
    "    \n",
    "    output = cv2.filter2D(img, -1, kernel)\n",
    "    cv2.imshow('Output Filter', output)\n",
    "    \n",
    "    if cv2.waitKey(1) & 0xFF == ord('q'):\n",
    "        break\n",
    "\n",
    "cv2.destroyAllWindows()"
   ]
  },
  {
   "cell_type": "code",
   "execution_count": 4,
   "metadata": {},
   "outputs": [],
   "source": [
    "def nothing(x):\n",
    "    pass\n",
    "\n",
    "cv2.namedWindow('Output Filter')\n",
    "cv2.createTrackbar('Kernel Size', 'Output Filter', 3, 40, nothing)\n",
    "\n",
    "cap = cv2.VideoCapture(0)\n",
    "\n",
    "while True:\n",
    "    ret, frame = cap.read()\n",
    "    \n",
    "    size = cv2.getTrackbarPos('Kernel Size', 'Output Filter')\n",
    "    kernel = np.ones((size, size), np.float32)/(size*size)\n",
    "    \n",
    "    output = cv2.filter2D(frame, -1, kernel)\n",
    "    cv2.imshow('Output Filter', output)\n",
    "    \n",
    "    if cv2.waitKey(1) & 0xFF == ord('q'):\n",
    "        break\n",
    "\n",
    "cap.release()\n",
    "cv2.destroyAllWindows()\n",
    "    "
   ]
  },
  {
   "cell_type": "markdown",
   "metadata": {},
   "source": [
    "### Edge Detection"
   ]
  },
  {
   "cell_type": "code",
   "execution_count": 8,
   "metadata": {},
   "outputs": [],
   "source": [
    "img = cv2.imread('shapes.jpg', 0)\n",
    "rows, cols = img.shape\n",
    "\n",
    "sobel_horizontal = cv2.Sobel(img, cv2.CV_64F, 1, 0, ksize=5)\n",
    "horizontal = np.absolute(sobel_horizontal)\n",
    "sobel_vertical = cv2.Sobel(img, cv2.CV_64F, 0, 1, ksize=5)\n",
    "\n",
    "sobel = sobel_horizontal + sobel_vertical\n",
    "\n",
    "cv2.imshow('Original', img)\n",
    "cv2.imshow('Sobel Horizontal', sobel_horizontal)\n",
    "cv2.imshow('Absolute Horizontal', horizontal)\n",
    "# cv2.imshow('Sobel Vertical', sobel_vertical)\n",
    "\n",
    "# cv2.imshow('Sobel', sobel)\n",
    "\n",
    "cv2.waitKey(0)\n",
    "cv2.destroyAllWindows()"
   ]
  },
  {
   "cell_type": "markdown",
   "metadata": {},
   "source": [
    "### Laplacian"
   ]
  },
  {
   "cell_type": "code",
   "execution_count": 10,
   "metadata": {},
   "outputs": [],
   "source": [
    "img = cv2.imread('shapes.jpg', 0)\n",
    "rows, cols = img.shape\n",
    "\n",
    "laplacian = cv2.Laplacian(img, cv2.CV_64F)\n",
    "\n",
    "cv2.imshow('Original', img)\n",
    "cv2.imshow('Laplacian', laplacian)\n",
    "\n",
    "cv2.waitKey(0)\n",
    "cv2.destroyAllWindows()"
   ]
  },
  {
   "cell_type": "markdown",
   "metadata": {},
   "source": [
    "### Canny Edge Detection"
   ]
  },
  {
   "cell_type": "code",
   "execution_count": 13,
   "metadata": {},
   "outputs": [],
   "source": [
    "img = cv2.imread('lena.png', 0)\n",
    "rows, cols = img.shape\n",
    "\n",
    "canny = cv2.Canny(img, 50, 240)\n",
    "\n",
    "cv2.imshow('Original', img)\n",
    "cv2.imshow('Canny', canny)\n",
    "\n",
    "cv2.waitKey(0)\n",
    "cv2.destroyAllWindows()"
   ]
  },
  {
   "cell_type": "code",
   "execution_count": 15,
   "metadata": {},
   "outputs": [],
   "source": [
    "def nothing(x):\n",
    "    pass\n",
    "\n",
    "cv2.namedWindow('Canny')\n",
    "cv2.createTrackbar('Low Threshold', 'Canny', 0, 200, nothing)\n",
    "cv2.createTrackbar('High Threshold', 'Canny', 0, 200, nothing)\n",
    "\n",
    "\n",
    "cap = cv2.VideoCapture(0)\n",
    "\n",
    "while True:\n",
    "    ret, frame = cap.read()\n",
    "    low_thresh = cv2.getTrackbarPos('Low Threshold', 'Canny')\n",
    "    high_thresh = cv2.getTrackbarPos('High Threshold', 'Canny')\n",
    "    \n",
    "    canny = cv2.Canny(frame, low_thresh, high_thresh)\n",
    "    \n",
    "    \n",
    "    cv2.imshow('Canny', canny)\n",
    "    cv2.imshow('Original', frame)\n",
    "    \n",
    "    if cv2.waitKey(1) & 0xFF == ord('q'):\n",
    "        break\n",
    "\n",
    "cap.release()\n",
    "cv2.destroyAllWindows()\n",
    "    "
   ]
  },
  {
   "cell_type": "markdown",
   "metadata": {},
   "source": [
    "### Motion Blur"
   ]
  },
  {
   "cell_type": "code",
   "execution_count": 2,
   "metadata": {},
   "outputs": [],
   "source": [
    "img = cv2.imread('lena.png')\n",
    "cv2.imshow('Original', img)\n",
    "\n",
    "size = 15\n",
    "\n",
    "# Generating the kernel\n",
    "kernel_motion_blur = np.zeros((size, size))\n",
    "kernel_motion_blur[int(size-1)//2, :] = np.ones(size)\n",
    "\n",
    "kernel_motion_blur = kernel_motion_blur / size\n",
    "\n",
    "# applying the kernel to the input image\n",
    "output = cv2.filter2D(img, -1, kernel_motion_blur)\n",
    "\n",
    "cv2.imshow('Motion Blur', output)\n",
    "cv2.waitKey(0)\n",
    "cv2.destroyAllWindows()"
   ]
  },
  {
   "cell_type": "markdown",
   "metadata": {},
   "source": [
    "### Sharpening Images"
   ]
  },
  {
   "cell_type": "code",
   "execution_count": 3,
   "metadata": {},
   "outputs": [],
   "source": [
    "img = cv2.imread('lena.png')\n",
    "cv2.imshow('Original Image', img)\n",
    "\n",
    "#generating the kernels\n",
    "kernel_sharpen_1 = np.array([[-1, -1, -1], \n",
    "                            [-1, 9, -1],\n",
    "                            [-1, -1, -1]])\n",
    "\n",
    "kernel_sharpen_2 = np.array([[1, 1, 1],\n",
    "                            [1, -7, 1],\n",
    "                            [1, 1, 1]])\n",
    "\n",
    "kernel_sharpen_3 = np.array([[-1, -1, -1, -1, -1],\n",
    "                            [-1, 2, 2, 2, -1],\n",
    "                            [-1, 2, 8, 2, -1],\n",
    "                            [-1, 2, 2, 2, -1],\n",
    "                            [-1, -1, -1, -1, -1]]) / 8.0\n",
    "\n",
    "# applying different kernels to the input image\n",
    "output_1 = cv2.filter2D(img, -1, kernel_sharpen_1)\n",
    "output_2 = cv2.filter2D(img, -1, kernel_sharpen_2)\n",
    "output_3 = cv2.filter2D(img, -1, kernel_sharpen_3)\n",
    "\n",
    "cv2.imshow('Sharpening', output_1)\n",
    "cv2.imshow('Excessive Sharpening', output_2)\n",
    "cv2.imshow('Edge Enhancement', output_3)\n",
    "\n",
    "cv2.waitKey(0)\n",
    "cv2.destroyAllWindows()"
   ]
  },
  {
   "cell_type": "markdown",
   "metadata": {},
   "source": [
    "### Embossing"
   ]
  },
  {
   "cell_type": "code",
   "execution_count": 5,
   "metadata": {},
   "outputs": [],
   "source": [
    "img_emboss_input = cv2.imread('lena.png')\n",
    "\n",
    "# Generating the kernels\n",
    "kernel_emboss_1 = np.array([[0, -1, -1],\n",
    "                           [1, 0, -1],\n",
    "                           [1, 1, 0]])\n",
    "\n",
    "kernel_emboss_2 = np.array([[-1, -1, 0],\n",
    "                           [-1, 0, 1],\n",
    "                           [0, 1, 1]])\n",
    "\n",
    "kernel_emboss_3 = np.array([[1, 1, -1],\n",
    "                           [0, 0, 0],\n",
    "                           [0, 0, -1]])\n",
    "\n",
    "# Converting the image to grayscale\n",
    "\n",
    "gray_img = cv2.cvtColor(img_emboss_input, cv2.COLOR_BGR2GRAY)\n",
    "\n",
    "# Applying the kernel to the grayscal image and adding the offset\n",
    "output_1 = cv2.filter2D(gray_img, -1, kernel_emboss_1) + 128\n",
    "output_2 = cv2.filter2D(gray_img, -1, kernel_emboss_2) + 128\n",
    "output_3 = cv2.filter2D(gray_img, -1, kernel_emboss_3) + 128\n",
    "\n",
    "cv2.imshow('Input', img_emboss_input)\n",
    "cv2.imshow('Embossing - South West', output_1)\n",
    "cv2.imshow('Embossing - South East', output_2)\n",
    "cv2.imshow('Embossing - North West', output_3)\n",
    "\n",
    "cv2.waitKey(0)\n",
    "cv2.destroyAllWindows()"
   ]
  },
  {
   "cell_type": "markdown",
   "metadata": {},
   "source": [
    "### Erosion and Dilation"
   ]
  },
  {
   "cell_type": "code",
   "execution_count": 7,
   "metadata": {},
   "outputs": [],
   "source": [
    "img = cv2.imread('opencv.png', 0)\n",
    "kernel = np.ones((5, 5), np.uint8)\n",
    "\n",
    "img_erosion = cv2.erode(img, kernel, iterations = 1)\n",
    "img_dilation = cv2.dilate(img, kernel, iterations=1)\n",
    "\n",
    "cv2.imshow('Input', img)\n",
    "cv2.imshow('Erosion', img_erosion)\n",
    "cv2.imshow('Dilation', img_dilation)\n",
    "\n",
    "cv2.waitKey(0)\n",
    "cv2.destroyAllWindows()"
   ]
  },
  {
   "cell_type": "code",
   "execution_count": 9,
   "metadata": {},
   "outputs": [],
   "source": [
    "def nothing(x):\n",
    "    pass\n",
    "\n",
    "img = cv2.imread('opencv.png', 0)\n",
    "\n",
    "cv2.namedWindow('Input')\n",
    "cv2.createTrackbar('erosion iteration', 'Input', 0, 30, nothing)\n",
    "cv2.createTrackbar('dilation iteration', 'Input', 0, 30, nothing)\n",
    "\n",
    "while True:\n",
    "    \n",
    "    cv2.imshow('Input', img)\n",
    "    erosion_itr = cv2.getTrackbarPos('erosion iteration', 'Input')\n",
    "    dilation_itr = cv2.getTrackbarPos('dilation iteration', 'Input')\n",
    "    \n",
    "    img_erosion = cv2.erode(img, kernel, iterations =erosion_itr)\n",
    "    img_dilation = cv2.dilate(img, kernel, iterations=dilation_itr)\n",
    "\n",
    "    cv2.imshow('Input', img)\n",
    "    cv2.imshow('Erosion', img_erosion)\n",
    "    cv2.imshow('Dilation', img_dilation)\n",
    "    \n",
    "    if cv2.waitKey(1) & 0xFF == ord('q'):\n",
    "        break\n",
    "cv2.destroyAllWindows()\n",
    "    \n",
    "    "
   ]
  },
  {
   "cell_type": "code",
   "execution_count": null,
   "metadata": {},
   "outputs": [],
   "source": []
  }
 ],
 "metadata": {
  "kernelspec": {
   "display_name": "Python 3",
   "language": "python",
   "name": "python3"
  },
  "language_info": {
   "codemirror_mode": {
    "name": "ipython",
    "version": 3
   },
   "file_extension": ".py",
   "mimetype": "text/x-python",
   "name": "python",
   "nbconvert_exporter": "python",
   "pygments_lexer": "ipython3",
   "version": "3.7.6"
  }
 },
 "nbformat": 4,
 "nbformat_minor": 4
}
